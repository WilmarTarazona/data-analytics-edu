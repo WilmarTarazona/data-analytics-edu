{
  "nbformat": 4,
  "nbformat_minor": 0,
  "metadata": {
    "colab": {
      "provenance": [],
      "authorship_tag": "ABX9TyOjseClS81vk2HLW7l1xOyT",
      "include_colab_link": true
    },
    "kernelspec": {
      "name": "python3",
      "display_name": "Python 3"
    },
    "language_info": {
      "name": "python"
    }
  },
  "cells": [
    {
      "cell_type": "markdown",
      "metadata": {
        "id": "view-in-github",
        "colab_type": "text"
      },
      "source": [
        "<a href=\"https://colab.research.google.com/github/WilmarTarazona/data-analytics-edu/blob/main/Prescriptive%20Analytics%202.ipynb\" target=\"_parent\"><img src=\"https://colab.research.google.com/assets/colab-badge.svg\" alt=\"Open In Colab\"/></a>"
      ]
    },
    {
      "cell_type": "code",
      "execution_count": null,
      "metadata": {
        "colab": {
          "base_uri": "https://localhost:8080/"
        },
        "id": "T2YtsoKxNCGM",
        "outputId": "07c629db-f600-4adf-cb60-54deb9f9d984"
      },
      "outputs": [
        {
          "output_type": "stream",
          "name": "stdout",
          "text": [
            "Requirement already satisfied: pulp in /usr/local/lib/python3.10/dist-packages (2.8.0)\n"
          ]
        }
      ],
      "source": [
        "!pip install pulp"
      ]
    },
    {
      "cell_type": "code",
      "source": [
        "from pulp import *"
      ],
      "metadata": {
        "id": "U2eoIUfINEo0"
      },
      "execution_count": null,
      "outputs": []
    },
    {
      "cell_type": "code",
      "source": [
        "lp = LpProblem(\"Wood_Gurus\", LpMaximize)"
      ],
      "metadata": {
        "id": "AT7uH0yGNGL8"
      },
      "execution_count": null,
      "outputs": []
    },
    {
      "cell_type": "code",
      "source": [
        "x1 = LpVariable(name=\"x1\", lowBound=0, cat=\"Integer\")\n",
        "x2 = LpVariable(name=\"x2\", lowBound=0, cat=\"Integer\")\n",
        "x3 = LpVariable(name=\"x3\", lowBound=0, cat=\"Integer\")\n",
        "x4 = LpVariable(name=\"x4\", lowBound=0, cat=\"Integer\")"
      ],
      "metadata": {
        "id": "sui92QbmNWbV"
      },
      "execution_count": null,
      "outputs": []
    },
    {
      "cell_type": "code",
      "source": [
        "lp += (450 * x1) + (1150 * x2) + (800 * x3) + (450 * x4)\n",
        "print(lp.objective)"
      ],
      "metadata": {
        "colab": {
          "base_uri": "https://localhost:8080/"
        },
        "id": "JeRr8biRNrb-",
        "outputId": "878b1752-2846-4613-ffae-16fb993ddf36"
      },
      "execution_count": null,
      "outputs": [
        {
          "output_type": "stream",
          "name": "stdout",
          "text": [
            "450*x1 + 1150*x2 + 800*x3 + 450*x4\n"
          ]
        }
      ]
    },
    {
      "cell_type": "code",
      "source": [
        "lp += (100 * x1 + 100 * x2 + 200 * x3 + 100 * x4 <= 5800)\n",
        "lp += (10 * x1 + 30 * x2 + 20 * x3 + 10 * x4 <= 730)\n",
        "lp += (1000 * x1 + 800 * x2 + 600 * x3 + 400 * x4 <= 29200)\n",
        "lp += (1000 * x1 + 1500 * x2 + 500 * x3 + 1000 * x4 <= 60500)\n",
        "print(lp.constraints)"
      ],
      "metadata": {
        "colab": {
          "base_uri": "https://localhost:8080/"
        },
        "id": "Hz3k3wwjO2Yi",
        "outputId": "3b6b4a11-bd67-41a8-ced3-fc0f42576551"
      },
      "execution_count": null,
      "outputs": [
        {
          "output_type": "stream",
          "name": "stdout",
          "text": [
            "OrderedDict([('_C1', 100*x1 + 100*x2 + 200*x3 + 100*x4 + -5800 <= 0), ('_C2', 10*x1 + 30*x2 + 20*x3 + 10*x4 + -730 <= 0), ('_C3', 1000*x1 + 800*x2 + 600*x3 + 400*x4 + -29200 <= 0), ('_C4', 1000*x1 + 1500*x2 + 500*x3 + 1000*x4 + -60500 <= 0)])\n"
          ]
        }
      ]
    },
    {
      "cell_type": "code",
      "source": [
        "status = lp.solve()\n",
        "print(\"Status\", status)"
      ],
      "metadata": {
        "colab": {
          "base_uri": "https://localhost:8080/"
        },
        "id": "DWsmbUDoPYjt",
        "outputId": "d3dbe208-fc9b-4db0-fa10-612175651eaa"
      },
      "execution_count": null,
      "outputs": [
        {
          "output_type": "stream",
          "name": "stdout",
          "text": [
            "Status 1\n"
          ]
        }
      ]
    },
    {
      "cell_type": "code",
      "source": [
        "for var in lp.variables():\n",
        "  print(var, \"=\", value(var))\n",
        "print(\"OPT = \", value(lp.objective))"
      ],
      "metadata": {
        "colab": {
          "base_uri": "https://localhost:8080/"
        },
        "id": "tqLuQrBbQEnn",
        "outputId": "a99a7f5b-97d2-4b01-f803-4d4fd2a033ec"
      },
      "execution_count": null,
      "outputs": [
        {
          "output_type": "stream",
          "name": "stdout",
          "text": [
            "x1 = 0.0\n",
            "x2 = 8.0\n",
            "x3 = 1.0\n",
            "x4 = 47.0\n",
            "OPT =  31150.0\n"
          ]
        }
      ]
    }
  ]
}