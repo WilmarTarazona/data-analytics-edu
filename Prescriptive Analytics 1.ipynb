{
  "nbformat": 4,
  "nbformat_minor": 0,
  "metadata": {
    "colab": {
      "provenance": [],
      "authorship_tag": "ABX9TyNfNmFj/dhdXJaB995Fe8wW",
      "include_colab_link": true
    },
    "kernelspec": {
      "name": "python3",
      "display_name": "Python 3"
    },
    "language_info": {
      "name": "python"
    }
  },
  "cells": [
    {
      "cell_type": "markdown",
      "metadata": {
        "id": "view-in-github",
        "colab_type": "text"
      },
      "source": [
        "<a href=\"https://colab.research.google.com/github/WilmarTarazona/data-analytics-edu/blob/main/Prescriptive%20Analytics%201.ipynb\" target=\"_parent\"><img src=\"https://colab.research.google.com/assets/colab-badge.svg\" alt=\"Open In Colab\"/></a>"
      ]
    },
    {
      "cell_type": "code",
      "execution_count": null,
      "metadata": {
        "colab": {
          "base_uri": "https://localhost:8080/"
        },
        "id": "UZLfEksEH1k1",
        "outputId": "426f4c06-67f0-4531-e270-9ea41f03a784"
      },
      "outputs": [
        {
          "output_type": "stream",
          "name": "stdout",
          "text": [
            "Collecting pulp\n",
            "  Downloading PuLP-2.8.0-py3-none-any.whl (17.7 MB)\n",
            "\u001b[2K     \u001b[90m━━━━━━━━━━━━━━━━━━━━━━━━━━━━━━━━━━━━━━━━\u001b[0m \u001b[32m17.7/17.7 MB\u001b[0m \u001b[31m57.2 MB/s\u001b[0m eta \u001b[36m0:00:00\u001b[0m\n",
            "\u001b[?25hInstalling collected packages: pulp\n",
            "Successfully installed pulp-2.8.0\n"
          ]
        }
      ],
      "source": [
        "!pip install pulp"
      ]
    },
    {
      "cell_type": "code",
      "source": [
        "from pulp import *"
      ],
      "metadata": {
        "id": "DzyhSK88H6E6"
      },
      "execution_count": null,
      "outputs": []
    },
    {
      "cell_type": "code",
      "source": [
        "lp = LpProblem(\"Bakery_Problem\", LpMaximize)"
      ],
      "metadata": {
        "id": "yKc_9luLH7Qy"
      },
      "execution_count": null,
      "outputs": []
    },
    {
      "cell_type": "code",
      "source": [
        "x1 = LpVariable(name='Bowdoin_log', lowBound=0)\n",
        "x2 = LpVariable(name='Chocolate_cake', lowBound=0)"
      ],
      "metadata": {
        "id": "a3GINJxuIe-B"
      },
      "execution_count": null,
      "outputs": []
    },
    {
      "cell_type": "code",
      "source": [
        "lp += 10 * x1 + 5 * x2\n",
        "print(lp.objective)"
      ],
      "metadata": {
        "colab": {
          "base_uri": "https://localhost:8080/"
        },
        "id": "Fi-RENSFI2w3",
        "outputId": "55ec0754-e8a2-4f33-e3f8-43955b8bb378"
      },
      "execution_count": null,
      "outputs": [
        {
          "output_type": "stream",
          "name": "stdout",
          "text": [
            "10*Bowdoin_log + 5*Chocolate_cake\n"
          ]
        }
      ]
    },
    {
      "cell_type": "code",
      "source": [
        "lp += (5 * x1 + x2 <= 90, 'oven_constraint')\n",
        "lp += (x1 + 10 * x2 <= 300, 'food_processor_constraint')\n",
        "lp += (4 * x1 + 6 * x2 <= 125, 'boiler_constraint')\n",
        "print(lp.constraints)"
      ],
      "metadata": {
        "colab": {
          "base_uri": "https://localhost:8080/"
        },
        "id": "kvvd79NGI_MF",
        "outputId": "ab49d9d5-de5c-4b77-b888-503f0533b241"
      },
      "execution_count": null,
      "outputs": [
        {
          "output_type": "stream",
          "name": "stdout",
          "text": [
            "OrderedDict([('oven_constraint', 5*Bowdoin_log + 1*Chocolate_cake + -90 <= 0), ('food_processor_constraint', 1*Bowdoin_log + 10*Chocolate_cake + -300 <= 0), ('boiler_constraint', 4*Bowdoin_log + 6*Chocolate_cake + -125 <= 0)])\n"
          ]
        }
      ]
    },
    {
      "cell_type": "code",
      "source": [
        "status = lp.solve()\n",
        "print(\"Status:\", status)"
      ],
      "metadata": {
        "colab": {
          "base_uri": "https://localhost:8080/"
        },
        "id": "12u76JWOJmy_",
        "outputId": "d8021bf0-8d6f-4f6a-80f7-02a407668903"
      },
      "execution_count": null,
      "outputs": [
        {
          "output_type": "stream",
          "name": "stdout",
          "text": [
            "Status: 1\n"
          ]
        }
      ]
    },
    {
      "cell_type": "code",
      "source": [
        "for var in lp.variables():\n",
        "  print(var, \"=\", value(var))\n",
        "print(\"OPT =\", value(lp.objective))"
      ],
      "metadata": {
        "colab": {
          "base_uri": "https://localhost:8080/"
        },
        "id": "Igs-JjjTMHFn",
        "outputId": "76cac50f-ffdc-4439-a1bd-e983272f2f2e"
      },
      "execution_count": null,
      "outputs": [
        {
          "output_type": "stream",
          "name": "stdout",
          "text": [
            "Bowdoin_log = 15.961538\n",
            "Chocolate_cake = 10.192308\n",
            "OPT = 210.57691999999997\n"
          ]
        }
      ]
    },
    {
      "cell_type": "code",
      "source": [
        "%matplotlib inline\n",
        "import matplotlib.pyplot as plt\n",
        "import numpy as np"
      ],
      "metadata": {
        "id": "tu9PFNba62_f"
      },
      "execution_count": null,
      "outputs": []
    },
    {
      "cell_type": "code",
      "source": [
        "x = np.linspace(-50, 1000, 1000)\n",
        "beta1_0 = 90\n",
        "beta1_1 = -5\n",
        "y1 = beta1_1 * x + beta1_0\n",
        "\n",
        "beta2_0 = 30\n",
        "beta2_1 = -1/10\n",
        "y2 = beta2_1 * x + beta2_0\n",
        "\n",
        "beta3_0 = 125/6\n",
        "beta3_1 = -4/6\n",
        "y3 = beta3_1 * x + beta3_0"
      ],
      "metadata": {
        "id": "ARVVMWUj6-Fj"
      },
      "execution_count": null,
      "outputs": []
    },
    {
      "cell_type": "code",
      "source": [
        "plt.plot(x, y1)\n",
        "plt.plot(x, y2)\n",
        "plt.plot(x, y3)\n",
        "\n",
        "plt.xlim(-10, 40)\n",
        "plt.ylim(0, 100)\n",
        "\n",
        "plt.axhline(y=0, color='k')\n",
        "plt.axvline(x=0, color='k')"
      ],
      "metadata": {
        "colab": {
          "base_uri": "https://localhost:8080/",
          "height": 452
        },
        "id": "qQqNw3N_9oZC",
        "outputId": "b561355b-73d7-4f84-85fc-9712d487873e"
      },
      "execution_count": null,
      "outputs": [
        {
          "output_type": "execute_result",
          "data": {
            "text/plain": [
              "<matplotlib.lines.Line2D at 0x791d2dcbee00>"
            ]
          },
          "metadata": {},
          "execution_count": 13
        },
        {
          "output_type": "display_data",
          "data": {
            "text/plain": [
              "<Figure size 640x480 with 1 Axes>"
            ],
            "image/png": "[encoded data removed]"
          },
          "metadata": {}
        }
      ]
    }
  ]
}